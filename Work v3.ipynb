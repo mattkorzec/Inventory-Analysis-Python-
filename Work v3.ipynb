{
 "cells": [
  {
   "cell_type": "markdown",
   "metadata": {},
   "source": [
    "### Set up Jupyter Notebook"
   ]
  },
  {
   "cell_type": "code",
   "execution_count": 146,
   "metadata": {},
   "outputs": [],
   "source": [
    "import os\n",
    "os.chdir ('C:\\\\Users\\\\mkorzec\\Downloads')"
   ]
  },
  {
   "cell_type": "code",
   "execution_count": 147,
   "metadata": {},
   "outputs": [],
   "source": [
    "import pandas as pd\n",
    "import numpy as np\n",
    "import matplotlib.pyplot as plt\n",
    "import seaborn as sns\n",
    "%matplotlib inline\n",
    "\n",
    "from sklearn.model_selection import train_test_split\n",
    "\n",
    "import warnings\n",
    "warnings.filterwarnings('ignore')"
   ]
  },
  {
   "cell_type": "markdown",
   "metadata": {},
   "source": [
    "### Sales Data"
   ]
  },
  {
   "cell_type": "code",
   "execution_count": 148,
   "metadata": {},
   "outputs": [],
   "source": [
    "# Import sales data"
   ]
  },
  {
   "cell_type": "code",
   "execution_count": 149,
   "metadata": {},
   "outputs": [],
   "source": [
    "il071 = pd.read_excel('4-16-il071.xlsx')\n",
    "il082 = pd.read_excel('4-16-il082.xlsx')\n",
    "il088 = pd.read_excel('4-16-il088.xlsx')\n",
    "in048 = pd.read_excel('4-16-in048.xlsx')\n",
    "mo046 = pd.read_excel('4-16-mo046.xlsx')\n",
    "fl121 = pd.read_excel('4-16-fl121.xlsx')\n",
    "fl123 = pd.read_excel('4-16-fl123.xlsx')"
   ]
  },
  {
   "cell_type": "code",
   "execution_count": 150,
   "metadata": {},
   "outputs": [],
   "source": [
    "# Add dealership columns to the datasets"
   ]
  },
  {
   "cell_type": "code",
   "execution_count": 151,
   "metadata": {},
   "outputs": [],
   "source": [
    "il071['Dealership'] = \"IL071\"\n",
    "il082['Dealership'] = \"IL082\"\n",
    "il088['Dealership'] = \"IL088\"\n",
    "in048['Dealership'] = \"IN048\"\n",
    "mo046['Dealership'] = \"MO046\"\n",
    "fl121['Dealership'] = \"FL121\"\n",
    "fl123['Dealership'] = \"FL123\""
   ]
  },
  {
   "cell_type": "code",
   "execution_count": 152,
   "metadata": {},
   "outputs": [],
   "source": [
    "# Joint tables together"
   ]
  },
  {
   "cell_type": "code",
   "execution_count": 153,
   "metadata": {},
   "outputs": [],
   "source": [
    "frames = [il071, il082, il088, in048, mo046, fl121, fl123]"
   ]
  },
  {
   "cell_type": "code",
   "execution_count": 154,
   "metadata": {},
   "outputs": [],
   "source": [
    "data = pd.concat(frames)"
   ]
  },
  {
   "cell_type": "code",
   "execution_count": 155,
   "metadata": {},
   "outputs": [
    {
     "data": {
      "text/plain": [
       "Index(['Unnamed: 0', 'AON or VIN', 'Trans Type', 'MY', 'Model', 'Package',\n",
       "       'Color', 'MSRP', 'Dealer Cost', 'Customer Name', 'Finance Type',\n",
       "       'Transaction Date', 'Sale Type', 'Valid Sales Date', 'SRC',\n",
       "       'Vehicle Info', 'Dealer Notes', 'Invoice / Preship', 'Vehicle Log',\n",
       "       'Dealership'],\n",
       "      dtype='object')"
      ]
     },
     "execution_count": 155,
     "metadata": {},
     "output_type": "execute_result"
    }
   ],
   "source": [
    "# Select columns\n",
    "data.head()\n",
    "data.columns"
   ]
  },
  {
   "cell_type": "code",
   "execution_count": 156,
   "metadata": {},
   "outputs": [],
   "source": [
    "d1 = data[['AON or VIN', 'MY', 'Model',\n",
    "       'Color', 'MSRP', 'Dealer Cost', 'Finance Type',\n",
    "       'Transaction Date', 'SRC', 'Dealership']]"
   ]
  },
  {
   "cell_type": "code",
   "execution_count": 157,
   "metadata": {},
   "outputs": [],
   "source": [
    "# Replace NA's with 'Okay' and filter only Okay values"
   ]
  },
  {
   "cell_type": "code",
   "execution_count": 158,
   "metadata": {},
   "outputs": [],
   "source": [
    "d1['SRC'].fillna('Okay', inplace = True)"
   ]
  },
  {
   "cell_type": "code",
   "execution_count": 159,
   "metadata": {},
   "outputs": [],
   "source": [
    "d2 = d1[d1['SRC'] == 'Okay']"
   ]
  },
  {
   "cell_type": "code",
   "execution_count": 160,
   "metadata": {},
   "outputs": [],
   "source": [
    "# Drop the SRC column"
   ]
  },
  {
   "cell_type": "code",
   "execution_count": 161,
   "metadata": {},
   "outputs": [],
   "source": [
    "d2.drop('SRC', axis = 1, inplace = True)"
   ]
  },
  {
   "cell_type": "code",
   "execution_count": 162,
   "metadata": {},
   "outputs": [],
   "source": [
    "# Rename columns"
   ]
  },
  {
   "cell_type": "code",
   "execution_count": 163,
   "metadata": {},
   "outputs": [],
   "source": [
    "d2.rename(columns = {\n",
    "    'MY' : 'Year',\n",
    "    'AON or VIN' : 'VIN'\n",
    "}, inplace = True)"
   ]
  },
  {
   "cell_type": "code",
   "execution_count": 164,
   "metadata": {},
   "outputs": [],
   "source": [
    "# Separate the color column into three columns"
   ]
  },
  {
   "cell_type": "code",
   "execution_count": 165,
   "metadata": {},
   "outputs": [],
   "source": [
    "d3 = d2['Color'].str.split(\" / \", n = 2, expand = True)"
   ]
  },
  {
   "cell_type": "code",
   "execution_count": 166,
   "metadata": {},
   "outputs": [],
   "source": [
    "d2['Exterior'] = d3[0]\n",
    "d2['Interior'] = d3[1]\n",
    "d2['Seat'] = d3[2]"
   ]
  },
  {
   "cell_type": "code",
   "execution_count": 167,
   "metadata": {},
   "outputs": [],
   "source": [
    "d2.drop(columns = ['Color'], inplace = True)"
   ]
  },
  {
   "cell_type": "code",
   "execution_count": 168,
   "metadata": {},
   "outputs": [],
   "source": [
    "# Replace Model codes with actual names"
   ]
  },
  {
   "cell_type": "code",
   "execution_count": 169,
   "metadata": {},
   "outputs": [],
   "source": [
    "x = d2.replace({'Model' : { '17412F45': \"Accent LE\",\n",
    "'28402F45': \"Sonata SE\",\n",
    "'284H2F4P': \"Sonata SE\",\n",
    "'284J2F4P': \"Sonata SEL\",\n",
    "'284K2F4P': \"Sonata Sport\",\n",
    "'284L2F4P': \"Sonata Limited\",\n",
    "'284M2F45': \"Sonata Limited 2.0T\",\n",
    "'48412F45': \"Elantra SE\",\n",
    "'48422F45': \"Elantra Value Edition\",\n",
    "'48442F45': \"Elantra SEL\",\n",
    "'48462F45': \"Elantra Limited\",\n",
    "'64402A45': \"Santa_FE SE 2.4 AWD\",\n",
    "'64402F4S': \"Santa_FE SE 2.4 FWD\",\n",
    "'64422A45': \"Santa_FE SEL 2.4 AWD\",\n",
    "'64422F4S': \"Santa_FE SEL 2.4 FWD\",\n",
    "'64472A45': \"Santa_FE Ultimate 2.4 AWD\",\n",
    "'64482A45': \"Santa_FE Limited 2.0T AWD\",\n",
    "'84412A45': \"Tucson SE AWD\",\n",
    "'84412F45': \"Tucson SE FWD\",\n",
    "'844A2F45': \"Tucson VALUE FWD\",\n",
    "'844B2F45': \"Tucson SEL FWD\",\n",
    "'844B2F4S': \"Tucson SEL FWD\",\n",
    "'844D2A45': \"Tucson Sport FWD\",\n",
    "'844G2A45': \"Tucson Limited AWD\",\n",
    "'844H2A45': \"Tucson Unlimited AWD\",\n",
    "'D2542F45': \"Elantra GT SPORT A/T\",\n",
    "'F1353F45': \"Veloster N\",\n",
    "'Q0422F45': \"Kona SEL FWD\",\n",
    "'Q0452A45': \"Kona Limited AWD\",\n",
    "'64492A45': \"Santa_FE Ultimate 2.0T AWD\",\n",
    "'64462F45': \"Santa_FE Limited 2.4 FWD\",\n",
    "'28472F45': \"Sonata Limited\",\n",
    "'844B2A45': \"Tucson SEL AWD\",\n",
    "'J0412F65': \"Santa_FE XL SE FWD\",\n",
    "'J0482A65': \"Santa_FE LTD ULT AWD\",\n",
    "'N0502F4S': \"IONIQ_Hybrid Blue\",\n",
    "'N0522F4S': \"IONIQ_Hybrid SEL\",\n",
    "'N0542F4S': \"IONIQ_Hybrid Limited\",\n",
    "'G1402F45': \"Sonata Hybrid SE\",\n",
    "'B2402A65': \"G80 AWD 3.8\",\n",
    "'F1322F45': \"Veloster 2.0 Premium\",\n",
    "'17442F45': \"Accent SEL\",\n",
    "'64442F45': \"Santa_FE SEL PLUS 2.4 FWD\",\n",
    "'64442A45': \"Santa_FE SEL PLUS 2.4 AWD\",\n",
    "'64492A45': \"Santa_FE Ultimate 2.0T AWD\",\n",
    "'64482F45': \"Santa_FE Limited 2.0T FWD\",\n",
    "'64472F45': \"Santa_FE Ultimate 2.4 FWD\",\n",
    "'64462A45': \"Santa_FE Limited 2.4 AWD\",\n",
    "'47442F45': \"Elantra SEL\",\n",
    "'47422F45': \"Elantra Value Edition\",\n",
    "'284G2F45': \"Sonata Limited 2.0T\",\n",
    "'64492F45': \"Santa_FE Ultimate 2.0T FWD\",\n",
    "'284B2F45': \"Sonata SEL\",\n",
    "'284E2F45': \"Sonata Sport\",\n",
    "'284F2F45': \"Sonata Limited\",\n",
    "'844E2A45': \"Tucson VALUE AWD\",\n",
    "'844C2F45': \"Tucson SEL PLUS FWD\",\n",
    "'Q0402F45': \"Kona SE FWD\",\n",
    "'Q0432F45': \"Kona SEL FWD - Contrast Roof\",\n",
    "'844E2F45': \"Tucson VALUE FWD\",\n",
    "'48413F45': \"Elantra M/T\",\n",
    "'844H2F4S': \"Tucson Ultimate FWD\",\n",
    "'844D2F4S': \"Tucson Sport FWD\",\n",
    "'844A2A45': \"Tucson Value AWD\",\n",
    "'Q0422A45': \"Kona SEL AWD\",\n",
    "'Q0472A45': \"Kona Ultimate AWD\",\n",
    "'J0412A65': \"Santa_FE XL SE AWD\",\n",
    "'J0482F65': \"Santa_FE XL LTD ULT FWD\",\n",
    "'J0422A65': \"Santa_FE SE ULT AWD\",\n",
    "'P0542F4P': \"IONIQ_Hybrid Plug-In Limited\",\n",
    "'G1432F45': \"Sonata Hybrid Limited\",\n",
    "'D2522F45': \"Elantra GT A/T\",\n",
    "'F1302F45': \"Veloster 2.0\",\n",
    "'F1362F45': \"Veloster Turbo\",\n",
    "'Q0452F45': \"Kona Limited FWD\",\n",
    "'Q0472F45': \"Kona Ultimate FWD\",\n",
    "'63462F45': \"Santa_FE Sport 2.0T ULT FWD\",\n",
    "'28432F45': \"Sonata Sport 2.0T\",\n",
    "'284C2F45': \"Sonata Sport\",\n",
    "'284F2F4P': \"Sonata Limited\",\n",
    "'284D2F45': \"Sonata SEL\",\n",
    "'844G2F45': \"Tucson Limited FWD\",\n",
    "'J0422F65': \"Santa_FE SE ULT FWD\",\n",
    "'48472F45': \"Elantra Sport\",\n",
    "'B2432R65': \"G80 RWD 3.3T Sport\",\n",
    "'F1303F45': \"Veloster 2.0 M/T\",\n",
    "'F1343F45': \"Veloster R-SPEC\",\n",
    "'F1383F45': \"Veloster Turbo Ultimate M/T\",\n",
    "'F1382F45': \"Veloster Turbo Ultimate\",\n",
    "'28492F45': \"Sonata ECO\",\n",
    "'844F2A45': \"Tucson Night AWD\",\n",
    "'844G2F4S': \"Tucson Limited FWD\",\n",
    "'B2402R65': \"G80 RWD 3.8\",\n",
    "'17462F45': \"Accent Limited\",\n",
    "'284D2F4P': \"Sonata SEL SULEV\",\n",
    "'844F2F4S': \"Tucson Night FWD\",\n",
    "'48432F45': \"Elantra ECO\", \n",
    "'17413F45': \"Accent SE M/T\",\n",
    "'Q0402A45': 'Kona SE AWD',\n",
    "'47412F45': 'Elantra SE',\n",
    "'28452F45': 'Sonata Limited 2.0T',\n",
    "'B2452R85': 'G80 RWD 5.0 Ultimate',\n",
    "'Q0492A45': 'Kona Iron Man Edition AWD'\n",
    "                          }})"
   ]
  },
  {
   "cell_type": "code",
   "execution_count": 170,
   "metadata": {},
   "outputs": [],
   "source": [
    "# Replace Exterior codes with actual names"
   ]
  },
  {
   "cell_type": "code",
   "execution_count": 171,
   "metadata": {},
   "outputs": [],
   "source": [
    "x = x.replace({'Exterior' : { 'U4G': \"GRAY\",\n",
    "'R4R': \"RED\",\n",
    "'W4Y': \"BEIGE\",\n",
    "'4SS': \"SILVER\",\n",
    "'ABP': \"BLACK\",\n",
    "'B2R': \"BLUE\",\n",
    "'S3B': \"BLACK\",\n",
    "'WW8': \"WHITE\",\n",
    "'Y2B': \"BROWN\",\n",
    "'ST2': \"BLUE\",\n",
    "'R2F': \"RAINFOREST\",\n",
    "'S2C': \"GRAY\",\n",
    "'PR3': \"RED\",\n",
    "'YR2': \"ORANGE\",\n",
    "'2C': \"GRAY\",\n",
    "'Y8': \"SILVER\",\n",
    "'S3': \"BLACK\",\n",
    "'VU': \"BLUE\",\n",
    "'W8': \"WHITE\",\n",
    "'PR': \"RED\",\n",
    "'US': \"BLUE\",\n",
    "'NKA': \"BLACK\",\n",
    "'PDW': \"WHITE\",\n",
    "'M8N': \"BROWN\",\n",
    "'T8T': \"SILVER\",\n",
    "'TW3': \"WHITE\",\n",
    "'R5R': \"RED\",\n",
    "'Z5G': \"GRAY\",\n",
    "'XB3': \"BLUE\",\n",
    "'MZH': \"BLACK\",\n",
    "'Z3U': \"BLUE\",\n",
    "'P6W': \"WHITE\",\n",
    "'YG7': \"GRAY\",\n",
    "'YAC': \"WHITE\",\n",
    "'RB5': \"BLACK\",\n",
    "'P2S': \"IRON FROST\",\n",
    "'M8S': \"SILVER\",\n",
    "'YT3': \"GRAY\",\n",
    "'N9V': \"SILVER\",\n",
    "'N5M': \"GRAY\",\n",
    "'Y8S': \"SILVER\",\n",
    "'R2U': \"BLUE\",\n",
    "'R5U': \"BLUE\",\n",
    "'Y2R': \"RED\",\n",
    "'SS7': \"SILVER\",\n",
    "'SS1': \"SILVER\",\n",
    "'Y21': \"RED\",\n",
    "'W9Y': \"LIME\",\n",
    "'T8S': \"SILVER\",\n",
    "'WAW': \"WHITE\",\n",
    "'YP5': \"BLUE\",\n",
    "'UYS': \"GRAY\",\n",
    "'WC9': \"WHITE\",\n",
    "'NU9': \"BLUE\",\n",
    "'U9G': \"GRAY\",\n",
    "'SWP': \"WHITE\",\n",
    "'TA9': \"ORANGE\",\n",
    "'MFR': \"RED\",\n",
    "'TU9': \"BLUE\",\n",
    "'T5K': \"BLACK\",\n",
    "'YW6': \"WHITE\",\n",
    "'YB6': \"BLACK\",\n",
    "'W9U': \"GRAY\",\n",
    "'N4B': \"BLUE\",\n",
    "'YN9': \"BROWN\",\n",
    "'PR2': \"RED\",\n",
    "'MJB': \"BLACK\",\n",
    "'WT': \"BEIGE\",\n",
    "'Y6S': \"SILVER\",\n",
    "'RTR': \"GRAY\",\n",
    "'V9R': \"RED\",\n",
    "'SFB': \"BLUE\"                             \n",
    "                            }})"
   ]
  },
  {
   "cell_type": "code",
   "execution_count": 172,
   "metadata": {},
   "outputs": [],
   "source": [
    "# Change Interior codes into actual name"
   ]
  },
  {
   "cell_type": "code",
   "execution_count": 173,
   "metadata": {},
   "outputs": [],
   "source": [
    "x = x.replace({'Interior' : { 'TRY': \"BLACK\",\n",
    "'XUG': \"BEIGE\",\n",
    "'YPJ': \"GRAY\",\n",
    "'NN1': \"BLACK\",\n",
    "'UUE': \"BEIGE\",\n",
    "'C1': \"BLACK\",\n",
    "'P1': \"GRAY\",\n",
    "'CT': \"BLACK\",\n",
    "'GG': \"GRAY\",\n",
    "'BB': \"BEIGE\",\n",
    "'TGG': \"GRAY\",\n",
    "'YAK': \"BEIGE\",\n",
    "'LGY': \"BLACK\",\n",
    "'X1': \"BEIGE\",\n",
    "'NNB': \"BLACK\",\n",
    "'VYN': \"BEIGE\",\n",
    "'RYN': \"BLACK\",\n",
    "'VFG': \"GRAY\",\n",
    "'YGE': \"BEIGE\",\n",
    "'T9Y': \"BLACK\",\n",
    "'RRY': \"BLACK\",\n",
    "'PK': \"GRAY\",\n",
    "'TR1': \"BLACK\",\n",
    "'PPB': \"BEIGE\",\n",
    "'PGG': \"GRAY\",\n",
    "'SG2': \"BLACK\",\n",
    "'RJS': \"GRAY\",\n",
    "'XA': \"BEIGE\",\n",
    "'PKG': \"GRAY\",\n",
    "                            }})"
   ]
  },
  {
   "cell_type": "code",
   "execution_count": 174,
   "metadata": {},
   "outputs": [],
   "source": [
    "# Change Seat codes to actual names"
   ]
  },
  {
   "cell_type": "code",
   "execution_count": 175,
   "metadata": {},
   "outputs": [],
   "source": [
    "x = x.replace({'Seat' : { 'BLACK W/ LIME': \"BLACK\"}})"
   ]
  },
  {
   "cell_type": "code",
   "execution_count": 176,
   "metadata": {},
   "outputs": [],
   "source": [
    "# Separe Model column into model and trim"
   ]
  },
  {
   "cell_type": "code",
   "execution_count": 177,
   "metadata": {},
   "outputs": [],
   "source": [
    "temp = x['Model'].str.split(\" \", n = 1, expand = True)"
   ]
  },
  {
   "cell_type": "code",
   "execution_count": 178,
   "metadata": {},
   "outputs": [],
   "source": [
    "x.drop(columns = ['Model'], inplace = True)"
   ]
  },
  {
   "cell_type": "code",
   "execution_count": 179,
   "metadata": {},
   "outputs": [],
   "source": [
    "x['Model'] = temp[0]\n",
    "x['Trim'] = temp[1]"
   ]
  },
  {
   "cell_type": "code",
   "execution_count": 180,
   "metadata": {},
   "outputs": [],
   "source": [
    "# Reorder columns\n",
    "x = x[['VIN', 'Year', 'Model', 'Trim', 'Exterior', 'Interior', 'Seat',\n",
    "      'MSRP', 'Dealer Cost', 'Finance Type', 'Transaction Date', 'Dealership']]"
   ]
  },
  {
   "cell_type": "code",
   "execution_count": 181,
   "metadata": {},
   "outputs": [],
   "source": [
    "# Export to excel file"
   ]
  },
  {
   "cell_type": "code",
   "execution_count": 182,
   "metadata": {},
   "outputs": [],
   "source": [
    "x.to_excel('Sample.xlsx', sheet_name = 'Raw Data', index = False)"
   ]
  },
  {
   "cell_type": "markdown",
   "metadata": {},
   "source": [
    "### Inventory Data"
   ]
  },
  {
   "cell_type": "code",
   "execution_count": 183,
   "metadata": {},
   "outputs": [],
   "source": [
    "# Import Inventory Data"
   ]
  },
  {
   "cell_type": "code",
   "execution_count": 184,
   "metadata": {},
   "outputs": [],
   "source": [
    "il071 = pd.read_excel('il071-inventory.xlsx')\n",
    "il082 = pd.read_excel('il082-inventory.xlsx')\n",
    "il088 = pd.read_excel('il088-inventory.xlsx')\n",
    "in048 = pd.read_excel('in048-inventory.xlsx')\n",
    "mo046 = pd.read_excel('mo046-inventory.xlsx')\n",
    "fl121 = pd.read_excel('fl121-inventory.xlsx')\n",
    "fl123 = pd.read_excel('fl123-inventory.xlsx')"
   ]
  },
  {
   "cell_type": "code",
   "execution_count": 185,
   "metadata": {},
   "outputs": [],
   "source": [
    "# Add dealership columns to the datasets"
   ]
  },
  {
   "cell_type": "code",
   "execution_count": 186,
   "metadata": {},
   "outputs": [],
   "source": [
    "il071['Dealership'] = \"IL071\"\n",
    "il082['Dealership'] = \"IL082\"\n",
    "il088['Dealership'] = \"IL088\"\n",
    "in048['Dealership'] = \"IN048\"\n",
    "mo046['Dealership'] = \"MO046\"\n",
    "fl121['Dealership'] = \"FL121\"\n",
    "fl123['Dealership'] = \"FL123\""
   ]
  },
  {
   "cell_type": "code",
   "execution_count": 187,
   "metadata": {},
   "outputs": [],
   "source": [
    "# Join tables together"
   ]
  },
  {
   "cell_type": "code",
   "execution_count": 188,
   "metadata": {},
   "outputs": [],
   "source": [
    "frames = [il071, il082, il088, in048, mo046, fl121, fl123]"
   ]
  },
  {
   "cell_type": "code",
   "execution_count": 189,
   "metadata": {},
   "outputs": [],
   "source": [
    "data = pd.concat(frames)"
   ]
  },
  {
   "cell_type": "code",
   "execution_count": 190,
   "metadata": {},
   "outputs": [],
   "source": [
    "# Filter out Series that don't start with 20"
   ]
  },
  {
   "cell_type": "code",
   "execution_count": 191,
   "metadata": {},
   "outputs": [],
   "source": [
    "x = data[data['Series'].str.startswith('20', na = False)]"
   ]
  },
  {
   "cell_type": "code",
   "execution_count": 192,
   "metadata": {},
   "outputs": [],
   "source": [
    "# Replace some names"
   ]
  },
  {
   "cell_type": "code",
   "execution_count": 193,
   "metadata": {},
   "outputs": [],
   "source": [
    "x['Series'] = x['Series'].str.replace(\"SANTA FE\", 'SANTA_FE', regex = True)"
   ]
  },
  {
   "cell_type": "code",
   "execution_count": 194,
   "metadata": {},
   "outputs": [],
   "source": [
    "x['Series'] = x['Series'].str.replace(\"IONIQ HYBRID\", 'IONIQ_HYBRID', regex = True)"
   ]
  },
  {
   "cell_type": "code",
   "execution_count": 195,
   "metadata": {},
   "outputs": [],
   "source": [
    "# Select needed columns"
   ]
  },
  {
   "cell_type": "code",
   "execution_count": 196,
   "metadata": {},
   "outputs": [],
   "source": [
    "x = x[['Series', 'Avg Mth Sales', 'Dealer Stock', 'D/S', 'ETA in 30 Days', 'ETA in 60 Days',\n",
    "       'ETA in 60+ Days', 'Total Avail', 'Dealership']]"
   ]
  },
  {
   "cell_type": "code",
   "execution_count": 197,
   "metadata": {},
   "outputs": [],
   "source": [
    "# Separate Series into multiple columns"
   ]
  },
  {
   "cell_type": "code",
   "execution_count": 198,
   "metadata": {},
   "outputs": [],
   "source": [
    "temp = x['Series'].str.split(\" \", n = 3, expand = True)"
   ]
  },
  {
   "cell_type": "code",
   "execution_count": 199,
   "metadata": {},
   "outputs": [],
   "source": [
    "x['Year'] = temp[0]\n",
    "x['Model'] = temp[2]\n",
    "x['Trim'] = temp[3]"
   ]
  },
  {
   "cell_type": "code",
   "execution_count": 200,
   "metadata": {},
   "outputs": [],
   "source": [
    "x.drop(columns = ['Series'], inplace = True)"
   ]
  },
  {
   "cell_type": "code",
   "execution_count": 201,
   "metadata": {},
   "outputs": [],
   "source": [
    "# Rename columns"
   ]
  },
  {
   "cell_type": "code",
   "execution_count": 202,
   "metadata": {},
   "outputs": [],
   "source": [
    "x.rename(columns = {\n",
    "    'Avg Mth Sales' : 'Average',\n",
    "    'Total Avail' : 'Total'\n",
    "}, inplace = True)"
   ]
  },
  {
   "cell_type": "code",
   "execution_count": 203,
   "metadata": {},
   "outputs": [],
   "source": [
    "# Add new columns to the data"
   ]
  },
  {
   "cell_type": "code",
   "execution_count": 204,
   "metadata": {},
   "outputs": [],
   "source": [
    "x['Expected_Sales'] = x.Average * 3"
   ]
  },
  {
   "cell_type": "code",
   "execution_count": 205,
   "metadata": {},
   "outputs": [],
   "source": [
    "x['Recommended'] = x.Expected_Sales - x.Total"
   ]
  },
  {
   "cell_type": "code",
   "execution_count": 206,
   "metadata": {},
   "outputs": [
    {
     "data": {
      "text/plain": [
       "Index(['Average', 'Dealer Stock', 'D/S', 'ETA in 30 Days', 'ETA in 60 Days',\n",
       "       'ETA in 60+ Days', 'Total', 'Dealership', 'Year', 'Model', 'Trim',\n",
       "       'Expected_Sales', 'Recommended'],\n",
       "      dtype='object')"
      ]
     },
     "execution_count": 206,
     "metadata": {},
     "output_type": "execute_result"
    }
   ],
   "source": [
    "# Reaname columns\n",
    "x.columns"
   ]
  },
  {
   "cell_type": "code",
   "execution_count": 207,
   "metadata": {},
   "outputs": [],
   "source": [
    "x.rename(columns = {\n",
    "    'D/S': 'Days In Stock', \n",
    "    'ETA in 30 Days': '30 Days', \n",
    "    'ETA in 60 Days': '60 Days',\n",
    "    'ETA in 60+ Days': 'Over 60 Days',\n",
    "    'Expected_Sales': 'Expected Sales (3 Months)', \n",
    "    'Recommended': 'Recommended Order'\n",
    "}, inplace = True)"
   ]
  },
  {
   "cell_type": "code",
   "execution_count": 208,
   "metadata": {},
   "outputs": [],
   "source": [
    "# Create a new Warning Column based on few conditions"
   ]
  },
  {
   "cell_type": "code",
   "execution_count": 209,
   "metadata": {},
   "outputs": [],
   "source": [
    "x['Year'] = x['Year'].astype(str).astype(int)"
   ]
  },
  {
   "cell_type": "code",
   "execution_count": 210,
   "metadata": {},
   "outputs": [],
   "source": [
    "x['Warning'] = np.where(x['Year'] < 2019, 'Older Model', \n",
    "                        (np.where(x['Total'] == 0, 'None in Stock or Transit', \"\")))"
   ]
  },
  {
   "cell_type": "code",
   "execution_count": 211,
   "metadata": {},
   "outputs": [],
   "source": [
    "x = x[['Year', 'Model', 'Trim', 'Average', 'Dealer Stock', 'Days In Stock', '30 Days', '60 Days',\n",
    "      'Total', 'Dealership', 'Expected Sales (3 Months)', 'Recommended Order', 'Warning']]"
   ]
  },
  {
   "cell_type": "code",
   "execution_count": 212,
   "metadata": {},
   "outputs": [],
   "source": [
    "# Export to existing excel file as a new sheet"
   ]
  },
  {
   "cell_type": "code",
   "execution_count": 213,
   "metadata": {},
   "outputs": [],
   "source": [
    "from openpyxl import load_workbook"
   ]
  },
  {
   "cell_type": "code",
   "execution_count": 214,
   "metadata": {},
   "outputs": [],
   "source": [
    "path = r\"C:\\Users\\mkorzec\\Downloads\\Sample.xlsx\""
   ]
  },
  {
   "cell_type": "code",
   "execution_count": 215,
   "metadata": {},
   "outputs": [],
   "source": [
    "book = load_workbook(path)\n",
    "writer = pd.ExcelWriter(path, engine = 'openpyxl')\n",
    "writer.book = book"
   ]
  },
  {
   "cell_type": "code",
   "execution_count": 216,
   "metadata": {},
   "outputs": [],
   "source": [
    "x.to_excel(writer, sheet_name = 'example', index = False)"
   ]
  },
  {
   "cell_type": "code",
   "execution_count": 217,
   "metadata": {},
   "outputs": [],
   "source": [
    "writer.save()\n",
    "writer.close()"
   ]
  }
 ],
 "metadata": {
  "kernelspec": {
   "display_name": "Python 3",
   "language": "python",
   "name": "python3"
  },
  "language_info": {
   "codemirror_mode": {
    "name": "ipython",
    "version": 3
   },
   "file_extension": ".py",
   "mimetype": "text/x-python",
   "name": "python",
   "nbconvert_exporter": "python",
   "pygments_lexer": "ipython3",
   "version": "3.7.3"
  }
 },
 "nbformat": 4,
 "nbformat_minor": 2
}
